{
  "nbformat": 4,
  "nbformat_minor": 0,
  "metadata": {
    "colab": {
      "provenance": []
    },
    "kernelspec": {
      "name": "python3",
      "display_name": "Python 3"
    },
    "language_info": {
      "name": "python"
    }
  },
  "cells": [
    {
      "cell_type": "code",
      "execution_count": null,
      "metadata": {
        "id": "BnuxtuzFqH4C"
      },
      "outputs": [],
      "source": []
    },
    {
      "cell_type": "markdown",
      "source": [
        "#FSD assignment\n",
        "Question 1. Explain the basic structure of an HTML page. Why is it important to follow this structure?\n",
        "\n",
        ". Basic structure of html:\n",
        "\n",
        "\n",
        "\n",
        "  "
      ],
      "metadata": {
        "id": "6SIrKyhOsYTV"
      }
    },
    {
      "cell_type": "code",
      "source": [
        "<!DOCTYPE html>\n",
        "<html>\n",
        "<head>\n",
        "  <title> basic structure </title>\n",
        "<body>\n",
        "   <h1>Hello World!</h1>\n",
        "   <p>This is a paragraph </p>\n",
        "</body>\n",
        "</html>\n",
        ""
      ],
      "metadata": {
        "id": "7rVfTy4lwT0n"
      },
      "execution_count": null,
      "outputs": []
    },
    {
      "cell_type": "markdown",
      "source": [],
      "metadata": {
        "id": "2vCJR879w8yS"
      }
    },
    {
      "cell_type": "markdown",
      "source": [
        " * Helps maintain readability and organization of code.\n",
        " * Makes the page accesible foe assisitive techonologies.\n",
        " * Following standers ensures compatibility with future web technologies.\n",
        "\n",
        "\n",
        " Question 2: You’re building a small personal profile page. Which HTML tags will you\n",
        "use to highlight your name as a heading, describe yourself in a paragraph, and\n",
        "emphasize a key skill?\n",
        "\n",
        ". Use < h1> to display your name as a heading.\n",
        "\n",
        ". use < p> to write praragraph describing yourself.\n",
        "\n",
        ". use < em> or < strong> to emphasize a key skill."
      ],
      "metadata": {
        "id": "p7Ac_5yLxGlf"
      }
    },
    {
      "cell_type": "code",
      "source": [
        "<h1> Chilukoti Navya </h1>\n",
        "<p> I am learing java full stack development.I am passionate about web development and coding. </p>\n",
        "<p>My key skill is <strong>java programming </strong>.</p>\n"
      ],
      "metadata": {
        "id": "Lm3XLmcT1LSw"
      },
      "execution_count": null,
      "outputs": []
    },
    {
      "cell_type": "markdown",
      "source": [],
      "metadata": {
        "id": "ZmtdcAgrzY9K"
      }
    },
    {
      "cell_type": "markdown",
      "source": [
        "Question 3: Look at the code below. Can you find and fix the mistake?\n",
        "<!-- This is an HTML comment\n",
        "<h1>Welcome to my website</h1>"
      ],
      "metadata": {
        "id": "t_mRlExe163a"
      }
    },
    {
      "cell_type": "markdown",
      "source": [
        "here the html comment is not closed proprely.\n",
        "<!-- this is a comment -->"
      ],
      "metadata": {
        "id": "joXYmeiU2bE4"
      }
    },
    {
      "cell_type": "markdown",
      "source": [
        "Question 4: you're creating a form that asks the user to enter their name,select their country from listed, and click a button to submit.Write the html code for this.\n",
        "\n"
      ],
      "metadata": {
        "id": "X-bk_u3q2y3h"
      }
    },
    {
      "cell_type": "code",
      "source": [
        "<form>\n",
        "  <label for=\"name\">Name:</label>\n",
        "  <input type=\"text\" id=\"name\" name=\"name\"><br><br>\n",
        "\n",
        "  <label for=\"country\">Country:</label>\n",
        "  <select id=\"country\" name=\"country\">\n",
        "    <option value=\"india\">India</option>\n",
        "    <option value=\"usa\">USA</option>\n",
        "    <option value=\"uk\">UK</option>\n",
        "    <option value=\"australia\">Australia</option>\n",
        "  </select><br><br>\n",
        "\n",
        "  <input type=\"submit\" value=\"Submit\">\n",
        "</form>"
      ],
      "metadata": {
        "id": "JtJwb5SO3jtz"
      },
      "execution_count": null,
      "outputs": []
    },
    {
      "cell_type": "markdown",
      "source": [
        "Question 5:write a short html code to show your favorite fruits in a bulleted list and your top3 progrramming languages in a numbered list ?"
      ],
      "metadata": {
        "id": "jYmIiSYK4kZK"
      }
    },
    {
      "cell_type": "code",
      "source": [
        "<h3>My Favorite Fruits</h3>\n",
        "<ul>\n",
        "  <li>Mango</li>\n",
        "  <li>Banana</li>\n",
        "  <li>Apple</li>\n",
        "</ul>\n",
        "\n",
        "<h3>My Top 3 Programming Languages</h3>\n",
        "<ol>\n",
        "  <li>Java</li>\n",
        "  <li>Python</li>\n",
        "  <li>C++</li>\n",
        "</ol>"
      ],
      "metadata": {
        "id": "bWBnf1VY5KRZ"
      },
      "execution_count": null,
      "outputs": []
    },
    {
      "cell_type": "markdown",
      "source": [
        "Question 6:Ravi wants to leave a note in his html file so that only other developers can see it, not the users on the wedsite.How should he do this?Why are such notes useful?\n",
        "\n",
        ". He should use html comments to leave notes.\n",
        "\n",
        ". The syntax is:"
      ],
      "metadata": {
        "id": "QZTdZxln5eBs"
      }
    },
    {
      "cell_type": "code",
      "source": [
        "<!--This is a comment-->"
      ],
      "metadata": {
        "id": "hwJ5C0Hd6qt5"
      },
      "execution_count": null,
      "outputs": []
    },
    {
      "cell_type": "markdown",
      "source": [
        ". Helps developers understand the code later.\n",
        "\n",
        ". Useful for teamwork and collaboration.\n",
        "\n",
        ".Acts as remainder or explanations for specific sections of code.\n",
        "\n",
        "Question 7.Here a form snippet.Can you spot the error and rewrite the correct version?\n"
      ],
      "metadata": {
        "id": "EE1S5i2S6wr7"
      }
    },
    {
      "cell_type": "code",
      "source": [
        "<form>\n",
        "  <input name=\"email\">\n",
        "  <select>\n",
        "    <option>India</option>\n",
        "  </select>\n",
        "  <button>Send</buton>\n",
        "</form>"
      ],
      "metadata": {
        "id": "lx4kXInB7ozE"
      },
      "execution_count": null,
      "outputs": []
    },
    {
      "cell_type": "markdown",
      "source": [
        "errors: input should have a type attribute (type=\"email\").\n",
        "        closing tag</button> is misspelled (should be </button>)"
      ],
      "metadata": {
        "id": "oIRU2_Wt74K_"
      }
    },
    {
      "cell_type": "code",
      "source": [
        "<form>\n",
        "  <input type=\"email\" name=\"email\">\n",
        "  <select>\n",
        "    <option>India</option>\n",
        "  </select>\n",
        "  <button>Send</button>\n",
        "</form>"
      ],
      "metadata": {
        "id": "5B9MtRsJ8S1P"
      },
      "execution_count": null,
      "outputs": []
    }
  ]
}